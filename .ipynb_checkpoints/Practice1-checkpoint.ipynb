{
 "cells": [
  {
   "cell_type": "markdown",
   "id": "3396d269-6c3e-4443-9b4d-71e337ca130c",
   "metadata": {},
   "source": [
    "# Practice 1 - Numerical Optimization\n"
   ]
  },
  {
   "cell_type": "markdown",
   "id": "df3de07c-2ffb-444d-b8b3-fdf406c9e679",
   "metadata": {},
   "source": [
    "## The one-dimensional case\n",
    "\n",
    "$$f(x) = x^3-2x+2$$"
   ]
  },
  {
   "cell_type": "markdown",
   "id": "ee959955-5dad-4971-8f3c-3d47d61b0fe8",
   "metadata": {},
   "source": [
    "Darrera prova de commit - 14:48h"
   ]
  }
 ],
 "metadata": {
  "kernelspec": {
   "display_name": "Python 3 (ipykernel)",
   "language": "python",
   "name": "python3"
  },
  "language_info": {
   "codemirror_mode": {
    "name": "ipython",
    "version": 3
   },
   "file_extension": ".py",
   "mimetype": "text/x-python",
   "name": "python",
   "nbconvert_exporter": "python",
   "pygments_lexer": "ipython3",
   "version": "3.12.6"
  }
 },
 "nbformat": 4,
 "nbformat_minor": 5
}
