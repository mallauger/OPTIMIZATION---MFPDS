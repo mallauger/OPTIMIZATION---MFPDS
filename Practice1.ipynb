{
 "cells": [
  {
   "cell_type": "markdown",
   "id": "3396d269-6c3e-4443-9b4d-71e337ca130c",
   "metadata": {},
   "source": [
    "# Practice 1 - Numerical Optimization\n"
   ]
  },
  {
   "cell_type": "markdown",
   "id": "df3de07c-2ffb-444d-b8b3-fdf406c9e679",
   "metadata": {},
   "source": [
    "## The one-dimensional case\n",
    "\n",
    "$$f(x) = x^3-2x+2$$"
   ]
  },
  {
   "cell_type": "code",
   "execution_count": null,
   "id": "fbdaee73-7bdf-4071-ac98-67ff454e9b69",
   "metadata": {},
   "outputs": [],
   "source": []
  }
 ],
 "metadata": {
  "kernelspec": {
   "display_name": "Python 3 (ipykernel)",
   "language": "python",
   "name": "python3"
  },
  "language_info": {
   "codemirror_mode": {
    "name": "ipython",
    "version": 3
   },
   "file_extension": ".py",
   "mimetype": "text/x-python",
   "name": "python",
   "nbconvert_exporter": "python",
   "pygments_lexer": "ipython3",
   "version": "3.12.6"
  }
 },
 "nbformat": 4,
 "nbformat_minor": 5
}
